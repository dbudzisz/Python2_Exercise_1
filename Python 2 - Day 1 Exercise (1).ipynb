{
 "cells": [
  {
   "cell_type": "markdown",
   "metadata": {},
   "source": [
    "# OOP - Class & Composition"
   ]
  },
  {
   "cell_type": "markdown",
   "metadata": {},
   "source": [
    "Exercise 1: Create a Player class with a name, a position, and a speed attributes. Set the initial value of speed to 1 and create any necessary methods.\n",
    "Then, \n",
    "1. Create two Player objects and print information about both players.\n",
    "2. Assign 8 to player 1's speed\n",
    "3. print information about both players."
   ]
  },
  {
   "cell_type": "code",
   "execution_count": 51,
   "metadata": {},
   "outputs": [],
   "source": [
    "class Player:\n",
    "    def __init__(self, name, position):\n",
    "        self.name = name\n",
    "        self.position = position\n",
    "        self.speed = 1\n",
    "    \n",
    "    def print_info(self):\n",
    "        print(f'The player\\'s name is {self.name}. He plays {self.position} and has a speed of {self.speed}.')\n",
    "    \n",
    "        "
   ]
  },
  {
   "cell_type": "code",
   "execution_count": 52,
   "metadata": {},
   "outputs": [
    {
     "name": "stdout",
     "output_type": "stream",
     "text": [
      "The player's name is Kobe Bryant. He plays shooting guard and has a speed of 1.\n",
      "The player's name is Roger clemens. He plays pitcher and has a speed of 1.\n",
      "\n",
      "\n",
      "The player's name is Kobe Bryant. He plays shooting guard and has a speed of 8.\n",
      "The player's name is Roger clemens. He plays pitcher and has a speed of 1.\n"
     ]
    }
   ],
   "source": [
    "#1. Create two Player objects and print information about both players.\n",
    "player_1 = Player('Kobe Bryant', 'shooting guard')\n",
    "player_1.print_info()\n",
    "player_2 = Player('Roger clemens', 'pitcher')\n",
    "player_2.print_info()\n",
    "\n",
    "\n",
    "#2. Assign 8 to player 1's speed\n",
    "player_1.speed = 8\n",
    "print('\\n')\n",
    "\n",
    "\n",
    "#3. Print information about both players.\n",
    "player_1.print_info()\n",
    "player_2.print_info()"
   ]
  },
  {
   "cell_type": "raw",
   "metadata": {},
   "source": [
    "# Exercise 2: Create a class called Rectangle with height and length attributes and has following methods: \n",
    "- perimeter() : returns a perimeter of a rectangle object\n",
    "- area() : returns an area of a rectangle object\n",
    "\n",
    "Then,\n",
    "1. create two instances of Rectangle class\n",
    "2. print each rectangle's perimeter and determine which rectangle has larger perimeter\n",
    "3. print each rectangle's area and determine which rectangle has larger area"
   ]
  },
  {
   "cell_type": "code",
   "execution_count": 84,
   "metadata": {},
   "outputs": [],
   "source": [
    "class Rectangle():\n",
    "    def __init__(self):\n",
    "        self.height = 0\n",
    "        self.length = 0\n",
    "    \n",
    "    def perimeter(self,height, length):\n",
    "        self.perimeter = 2*(height + length)\n",
    "            \n",
    "    def area(self, height, length):\n",
    "        self.area = height*length\n",
    "        return\n"
   ]
  },
  {
   "cell_type": "code",
   "execution_count": 103,
   "metadata": {},
   "outputs": [
    {
     "name": "stdout",
     "output_type": "stream",
     "text": [
      "Rectangle 1's perimeter is 40 and Rectangle 2's perimeter is 32. \n",
      "****************************************************************************************************\n",
      "\n",
      "\n",
      "Rectangle 1's perimeter is > Rectangle 2's perimeter\n",
      "****************************************************************************************************\n",
      "\n",
      "\n",
      "Rectangle 1's area is 100 and Rectangle 2's area is 64. \n",
      "****************************************************************************************************\n",
      "\n",
      "\n",
      "Rectangle 1's area is > Rectangle 2's area\n",
      "****************************************************************************************************\n",
      "\n",
      "\n"
     ]
    }
   ],
   "source": [
    "rectangle_1 = Rectangle()\n",
    "rectangle_2 = Rectangle()\n",
    "\n",
    "rectangle_1.perimeter(10,10)\n",
    "rectangle_1.area(10,10)\n",
    "rectangle_2.perimeter(8,8)\n",
    "rectangle_2.area(8,8)\n",
    "\n",
    "print(f'Rectangle 1\\'s perimeter is {rectangle_1.perimeter} and Rectangle 2\\'s perimeter is {rectangle_2.perimeter}. ')\n",
    "\n",
    "print('*'*100)\n",
    "print('\\n')\n",
    "\n",
    "if rectangle_1.perimeter > rectangle_2.perimeter:\n",
    "    print('Rectangle 1\\'s perimeter is > Rectangle 2\\'s perimeter')\n",
    "else:\n",
    "    print('Rectangle 1\\'s perimeter is < Rectangle 2\\'s perimeter')\n",
    "\n",
    "    \n",
    "print('*'*100)\n",
    "print('\\n')  \n",
    "      \n",
    "print(f'Rectangle 1\\'s area is {rectangle_1.area} and Rectangle 2\\'s area is {rectangle_2.area}. ')\n",
    "\n",
    "print('*'*100)\n",
    "print('\\n')  \n",
    "\n",
    "if rectangle_1.area > rectangle_2.area:\n",
    "    print('Rectangle 1\\'s area is > Rectangle 2\\'s area')\n",
    "else:\n",
    "    print('Rectangle 1\\'s area is < Rectangle 2\\'s area')\n",
    "\n",
    "print('*'*100)\n",
    "print('\\n')  \n"
   ]
  },
  {
   "cell_type": "markdown",
   "metadata": {},
   "source": [
    "Exercise 3: Create a class called Triangle with height and base attributes and has following methods:\n",
    "\n",
    "- perimeter() : returns a perimeter of a right triangle object\n",
    "- area() : returns an area of a right triangle object\n",
    "\n",
    "Then,\n",
    "\n",
    "- create two instances of Triangle class\n",
    "- print each triangle's perimeter and determine which triangle has larger perimeter\n",
    "- print each triangle's area and determine which triangle has larger area\n",
    "\n",
    "Use \n",
    "- perimeter of a right triangle = height + base + Square-Root((height \\** 2) + (base \\** 2)) \n",
    "- area of a right triangle = ( height * base ) / 2\n",
    "\n",
    "You'll need to <b>import math</b> library and use <b>math.sqrt()</b> function.\n",
    "\n"
   ]
  },
  {
   "cell_type": "code",
   "execution_count": 105,
   "metadata": {},
   "outputs": [],
   "source": [
    "import math\n",
    "\n",
    "class Triangle():\n",
    "    def __init__(self):\n",
    "        self.height = 0\n",
    "        self.base = 0\n",
    "    \n",
    "    def perimeter(self,height, base):\n",
    "        self.perimeter = height + base + math.sqrt((height**2) + (base**2))\n",
    "            \n",
    "    def area(self, height, base):\n",
    "        self.area = (height*base)/2\n",
    "        "
   ]
  },
  {
   "cell_type": "code",
   "execution_count": 119,
   "metadata": {},
   "outputs": [
    {
     "name": "stdout",
     "output_type": "stream",
     "text": [
      "Triangle 1 perimeter: 34.14. Triangle 2 perimeter: 27.31\n",
      "****************************************************************************************************\n",
      "\n",
      "\n",
      "Triangle 1 area: 50.0. Triangle 2 area: 32.0\n",
      "****************************************************************************************************\n",
      "\n",
      "\n",
      "Triangle 1's perimeter is > Triangle 2's perimeter\n",
      "****************************************************************************************************\n",
      "\n",
      "\n",
      "Triangle 1's area is > Triangle 2's area\n",
      "****************************************************************************************************\n",
      "\n",
      "\n"
     ]
    }
   ],
   "source": [
    "triangle_1 = Triangle()\n",
    "triangle_2 = Triangle()\n",
    "\n",
    "triangle_1.perimeter(10,10)\n",
    "triangle_1.area(10,10)\n",
    "triangle_2.perimeter(8,8)\n",
    "triangle_2.area(8,8)\n",
    "\n",
    "print(f'Triangle 1 perimeter: {triangle_1.perimeter:,.2f}. Triangle 2 perimeter: {triangle_2.perimeter:,.2f}')\n",
    "print('*'*100)\n",
    "print('\\n')\n",
    "\n",
    "print(f'Triangle 1 area: {triangle_1.area:,.1f}. Triangle 2 area: {triangle_2.area:,.1f}')\n",
    "print('*'*100)\n",
    "print('\\n')\n",
    "\n",
    "\n",
    "if triangle_1.perimeter > triangle_2.perimeter:\n",
    "    print('Triangle 1\\'s perimeter is > Triangle 2\\'s perimeter')\n",
    "else:\n",
    "    print('Triangle 1\\'s perimeter is < Triangle 2\\'s perimeter')\n",
    "print('*'*100)\n",
    "print('\\n')\n",
    "\n",
    "if triangle_1.area > triangle_2.area:\n",
    "    print('Triangle 1\\'s area is > Triangle 2\\'s area')\n",
    "else:\n",
    "    print('Triangle 1\\'s area is < Triangle 2\\'s area')\n",
    "print('*'*100)\n",
    "print('\\n')    \n",
    "\n"
   ]
  },
  {
   "cell_type": "markdown",
   "metadata": {},
   "source": [
    "Exercise 4: Wrote a program that maintains a list of movies, and the user can list all the movies, add a movie to the list, or delete a movie from the list. All input/output are done at the program level, not at a class level.\n",
    "\n",
    "\n",
    "For Python 1 Day 3 Challenge Exercise, you wrote a program that maintains a list of movies, and the user can list all the movies, add a movie to the list, or delete a movie from the list. Modify that program to use a Movie object stores name, year, and genre of a movie. Create any method you need to access these attributes but your method can not use <b>print</b> function. Additionally, create a Movies class that stores a list of movies. Again, create any method you need to access these attributes but your method can not use <b>print</b> function. \n"
   ]
  },
  {
   "cell_type": "code",
   "execution_count": null,
   "metadata": {},
   "outputs": [],
   "source": []
  },
  {
   "cell_type": "markdown",
   "metadata": {},
   "source": [
    "Exercise 5: Create a class called Employee with \n",
    "- firstname,\n",
    "- lastname, \n",
    "- joined_date\n",
    "- active \n",
    "attributes and methods to retrieve each attribute.\n",
    "\n",
    "Also, create a class called Department with a dept_name and a list of Employee objects as its attribute.  \n",
    "\n",
    "Then, write a program to \n",
    "- add 10 or more employees\n",
    "- print all employees's information\n",
    "- print all active employees' fullname in an alphabetical order\n",
    "\n",
    "Create any methods you need but all print statements should be called from your program, not in your class method!"
   ]
  },
  {
   "cell_type": "code",
   "execution_count": null,
   "metadata": {},
   "outputs": [],
   "source": []
  },
  {
   "cell_type": "code",
   "execution_count": null,
   "metadata": {},
   "outputs": [],
   "source": []
  }
 ],
 "metadata": {
  "kernelspec": {
   "display_name": "Python 3",
   "language": "python",
   "name": "python3"
  },
  "language_info": {
   "codemirror_mode": {
    "name": "ipython",
    "version": 3
   },
   "file_extension": ".py",
   "mimetype": "text/x-python",
   "name": "python",
   "nbconvert_exporter": "python",
   "pygments_lexer": "ipython3",
   "version": "3.8.3"
  }
 },
 "nbformat": 4,
 "nbformat_minor": 4
}
